{
  "nbformat": 4,
  "nbformat_minor": 0,
  "metadata": {
    "colab": {
      "name": "rk.ipynb",
      "provenance": [],
      "include_colab_link": true
    },
    "kernelspec": {
      "name": "python3",
      "display_name": "Python 3"
    },
    "language_info": {
      "name": "python"
    }
  },
  "cells": [
    {
      "cell_type": "markdown",
      "metadata": {
        "id": "view-in-github",
        "colab_type": "text"
      },
      "source": [
        "<a href=\"https://colab.research.google.com/github/miris-mimitako/g-colab/blob/main/rk.ipynb\" target=\"_parent\"><img src=\"https://colab.research.google.com/assets/colab-badge.svg\" alt=\"Open In Colab\"/></a>"
      ]
    },
    {
      "cell_type": "code",
      "metadata": {
        "colab": {
          "base_uri": "https://localhost:8080/",
          "height": 276
        },
        "id": "DuWWyjDlBlGl",
        "outputId": "e297a918-0d8e-4c69-eca1-e51222430ecf"
      },
      "source": [
        "import numpy as np\n",
        "from scipy.integrate import odeint\n",
        "import matplotlib.pyplot as plt\n",
        "\n",
        "def func(y, x, a):\n",
        "  #y軸x軸係数を引き渡し\n",
        "    dydx = a*y#微分方程式を定義\n",
        "    return dydx#微分方程式を返します\n",
        " \n",
        "a = 1#係数の定義\n",
        "y0 = 1#yの初期値を定義\n",
        "x = np.arange(0, 50, 0.01)#x軸の範囲とステップを定義\n",
        "\n",
        "y = odeint(func, y0, x, args=(a,))#計算　関数　yの初期値　xの配列　関数で使用する係数のタプル\n",
        "\n",
        "plt.plot(x, y, label= 'exp')\n",
        " \n",
        "plt.legend()\n",
        " \n",
        "plt.show()\n"
      ],
      "execution_count": 5,
      "outputs": [
        {
          "output_type": "display_data",
          "data": {
            "image/png": "[encoded data removed]",
            "text/plain": [
              "<Figure size 432x288 with 1 Axes>"
            ]
          },
          "metadata": {
            "tags": [],
            "needs_background": "light"
          }
        }
      ]
    },
    {
      "cell_type": "code",
      "metadata": {
        "id": "CkBdq4U0Ow2F",
        "outputId": "cee13070-97af-448d-ba5b-21d0d8b974fc",
        "colab": {
          "base_uri": "https://localhost:8080/",
          "height": 276
        }
      },
      "source": [
        "import numpy as np\n",
        "from scipy.integrate import odeint\n",
        "import matplotlib.pyplot as plt\n",
        "import math\n",
        "\n",
        " \n",
        "\n",
        "def func2(y, x ,a, b):\n",
        "  dxdy = a/b*y\n",
        "  return dxdy\n",
        "\n",
        "y0 = 1\n",
        "a,b = 1, 2\n",
        "x = np.arange(0,300,0.1)\n",
        "\n",
        "y = odeint(func2, y0, x, args=(a,b))\n",
        "\n",
        "plt.plot(x,y, label = 'test')\n",
        "plt.legend()\n",
        "plt.show()"
      ],
      "execution_count": 17,
      "outputs": [
        {
          "output_type": "display_data",
          "data": {
            "image/png": "[encoded data removed]",
            "text/plain": [
              "<Figure size 432x288 with 1 Axes>"
            ]
          },
          "metadata": {
            "tags": [],
            "needs_background": "light"
          }
        }
      ]
    },
    {
      "cell_type": "code",
      "metadata": {
        "id": "aDluUoKwSiZ4"
      },
      "source": [
        "import numpy as np\n",
        "import scipy\n",
        "import matplotlib.pyplot as plt\n",
        "\n",
        "\n",
        "\n",
        "\n",
        "scipy.integrate.solve_ivp(fun, t_span, y0, method='RK45', t_eval=None,\n",
        "                          dense_output=False, events=None, vectorized=False,\n",
        "                          args=None, **options)"
      ],
      "execution_count": null,
      "outputs": []
    }
  ]
}