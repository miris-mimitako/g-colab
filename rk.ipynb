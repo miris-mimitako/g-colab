{
  "nbformat": 4,
  "nbformat_minor": 0,
  "metadata": {
    "colab": {
      "name": "rk.ipynb",
      "provenance": [],
      "authorship_tag": "ABX9TyOa4gSiO0IdharyUoKw4qt4",
      "include_colab_link": true
    },
    "kernelspec": {
      "name": "python3",
      "display_name": "Python 3"
    },
    "language_info": {
      "name": "python"
    }
  },
  "cells": [
    {
      "cell_type": "markdown",
      "metadata": {
        "id": "view-in-github",
        "colab_type": "text"
      },
      "source": [
        "<a href=\"https://colab.research.google.com/github/miris-mimitako/g-colab/blob/main/rk.ipynb\" target=\"_parent\"><img src=\"https://colab.research.google.com/assets/colab-badge.svg\" alt=\"Open In Colab\"/></a>"
      ]
    },
    {
      "cell_type": "code",
      "metadata": {
        "colab": {
          "base_uri": "https://localhost:8080/",
          "height": 276
        },
        "id": "DuWWyjDlBlGl",
        "outputId": "5ab48c33-6952-4efc-fb11-3f25aefdfff5"
      },
      "source": [
        "import numpy as np\n",
        "from scipy.integrate import odeint\n",
        "import matplotlib.pyplot as plt\n",
        "\n",
        "def func(y, x, a):\n",
        "  #y軸x軸係数を引き渡し\n",
        "    dydx = a*y#微分方程式を定義\n",
        "    return dydx#微分方程式を返します\n",
        " \n",
        "a = 1　#係数の定義\n",
        "y0 = 1　#yの初期値を定義\n",
        "x = np.arange(0, 50, 0.01)　#x軸の範囲とステップを定義\n",
        "\n",
        "y = odeint(func, y0, x, args=(a,))　#計算　関数　yの初期値　xの配列　関数で使用する係数のタプル\n",
        "\n",
        "plt.plot(x, y, label= 'exp')\n",
        " \n",
        "plt.legend()\n",
        " \n",
        "plt.show()\n"
      ],
      "execution_count": 3,
      "outputs": [
        {
          "output_type": "display_data",
          "data": {
            "image/png": "[encoded data removed]",
            "text/plain": [
              "<Figure size 432x288 with 1 Axes>"
            ]
          },
          "metadata": {
            "tags": [],
            "needs_background": "light"
          }
        }
      ]
    }
  ]
}